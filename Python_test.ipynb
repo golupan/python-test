{
 "cells": [
  {
   "cell_type": "raw",
   "id": "b87b0be6-3e20-435c-80f2-e935d5713bc9",
   "metadata": {},
   "source": [
    "# Create a dictionary and print the value \"virat\""
   ]
  },
  {
   "cell_type": "code",
   "execution_count": 1,
   "id": "4e624fc4-7e21-436d-8ebc-c8a09f9fe641",
   "metadata": {},
   "outputs": [],
   "source": [
    "sampleDict = {\n",
    "    \"Country\": {\n",
    "        \"Indian Cricket Team\": {\n",
    "            \"name\": [\"rohit\",\"Virat\",\"rahul\",\"shami\",\"bumrah\"],\n",
    "            \"runs\": {\n",
    "                 \"Rohit\":47,\n",
    "                 \"Virat\":54,\n",
    "                  \"Rahul\":66\n",
    "            }\n",
    "        }\n",
    "    }\n",
    "}\n",
    "            "
   ]
  },
  {
   "cell_type": "code",
   "execution_count": 10,
   "id": "9aa6f548-50a7-467e-97c9-4d452357f619",
   "metadata": {},
   "outputs": [
    {
     "name": "stdout",
     "output_type": "stream",
     "text": [
      "Country : ('Country', {'Indian Cricket Team': {'name': ['rohit', 'Virat', 'rahul', 'shami', 'bumrah'], 'runs': {'Rohit': 47, 'Virat': 54, 'Rahul': 66}}})\n"
     ]
    }
   ],
   "source": [
    "for value in sampleDict.items():\n",
    "    print(f\"{key} : {value}\")\n",
    "        "
   ]
  },
  {
   "cell_type": "code",
   "execution_count": 14,
   "id": "2ffd75bc-c9c1-43dc-b678-cb9f99fda0b6",
   "metadata": {},
   "outputs": [],
   "source": [
    "# write a python Program to check if value 2700 exist in the dictionary"
   ]
  },
  {
   "cell_type": "code",
   "execution_count": 16,
   "id": "ca7ac8b6-65dd-4e8b-91d3-372d9f0affd6",
   "metadata": {},
   "outputs": [],
   "source": [
    "sample_Dict = {\"a\" : 100,\"b\" : 2800,\"c\" : 300}"
   ]
  },
  {
   "cell_type": "code",
   "execution_count": 18,
   "id": "83930732-4a0b-468e-920d-b31b5631339d",
   "metadata": {},
   "outputs": [
    {
     "name": "stdout",
     "output_type": "stream",
     "text": [
      "The value 2700 does not exist in the dictionary.\n"
     ]
    }
   ],
   "source": [
    "value_to_check = 2700\n",
    " \n",
    "if value_to_check in sample_Dict.values():\n",
    "    print(f\"The value {value_to_check} exists in the dictionary.\")\n",
    "else:\n",
    "    print(f\"The value {value_to_check} does not exist in the dictionary.\")"
   ]
  },
  {
   "cell_type": "code",
   "execution_count": 19,
   "id": "97d74ebd-f3e9-4b9c-8bd6-9244957690e8",
   "metadata": {},
   "outputs": [],
   "source": [
    "# write a program to add a list of element into a given set"
   ]
  },
  {
   "cell_type": "code",
   "execution_count": 21,
   "id": "09650750-cd06-45a1-b86a-0fcead9e1ced",
   "metadata": {},
   "outputs": [],
   "source": [
    "sample_set = {\"surya\",\"kapil\",\"MSD\"}\n",
    "sample_list = [\"sachin\",\"siraj\",\"sehwag\"]\n",
    "sample_set.update(sample_list)"
   ]
  },
  {
   "cell_type": "code",
   "execution_count": 22,
   "id": "ce89961b-ded2-4418-9913-6eb266d998b5",
   "metadata": {},
   "outputs": [
    {
     "data": {
      "text/plain": [
       "{'MSD', 'kapil', 'sachin', 'sehwag', 'siraj', 'surya'}"
      ]
     },
     "execution_count": 22,
     "metadata": {},
     "output_type": "execute_result"
    }
   ],
   "source": [
    "sample_set"
   ]
  },
  {
   "cell_type": "code",
   "execution_count": 23,
   "id": "9440c9e0-d8f5-4f5f-890b-ceda638c5c92",
   "metadata": {},
   "outputs": [],
   "source": [
    "# write a program to return a new set of identical items from two sets"
   ]
  },
  {
   "cell_type": "code",
   "execution_count": 26,
   "id": "47c7eb1a-d1bc-4121-9beb-d5e6ad0cdcfc",
   "metadata": {},
   "outputs": [],
   "source": [
    "set1 = {10,20,30,40,50}\n",
    "set2 = {30,40,50,60,70}\n",
    "set3 = set1.intersection(set2)"
   ]
  },
  {
   "cell_type": "code",
   "execution_count": 27,
   "id": "ad33f4ac-d8d5-4d8a-9020-6e2e062189c7",
   "metadata": {},
   "outputs": [
    {
     "data": {
      "text/plain": [
       "{30, 40, 50}"
      ]
     },
     "execution_count": 27,
     "metadata": {},
     "output_type": "execute_result"
    }
   ],
   "source": [
    "set3"
   ]
  },
  {
   "cell_type": "code",
   "execution_count": 29,
   "id": "f664880d-8fd8-477b-a7ac-58b00284ffee",
   "metadata": {},
   "outputs": [],
   "source": [
    "# given a list of number write a program to convert every item in list into its square."
   ]
  },
  {
   "cell_type": "code",
   "execution_count": 34,
   "id": "1cb06e70-38d6-4861-9ff1-175a5c792d7c",
   "metadata": {},
   "outputs": [
    {
     "name": "stdout",
     "output_type": "stream",
     "text": [
      "square of numbers are= 1\n",
      "square of numbers are= 4\n",
      "square of numbers are= 9\n",
      "square of numbers are= 16\n",
      "square of numbers are= 25\n",
      "square of numbers are= 36\n",
      "square of numbers are= 49\n"
     ]
    }
   ],
   "source": [
    "numbers = [1,2,3,4,5,6,7]\n",
    "for i in numbers:\n",
    "    print(\"square of numbers are=\",i**2)\n"
   ]
  },
  {
   "cell_type": "code",
   "execution_count": 35,
   "id": "5627a635-bd59-4f66-a297-aaae93149090",
   "metadata": {},
   "outputs": [],
   "source": [
    "# write a program to add 7000 after 6000 in the following list"
   ]
  },
  {
   "cell_type": "code",
   "execution_count": 47,
   "id": "810f68dd-16d4-49b3-b17f-6a7589fa3e9b",
   "metadata": {},
   "outputs": [],
   "source": [
    "list1 = [10,20,[300,400,[5000,6000],500],30,40]"
   ]
  },
  {
   "cell_type": "code",
   "execution_count": 48,
   "id": "2ecd18c8-0c93-4e6e-b34b-03bd7eebc713",
   "metadata": {},
   "outputs": [],
   "source": [
    "list1.insert(6,7000)"
   ]
  },
  {
   "cell_type": "code",
   "execution_count": 49,
   "id": "718286bf-79c2-4d1d-ac7d-18fca0d01047",
   "metadata": {},
   "outputs": [
    {
     "data": {
      "text/plain": [
       "[10, 20, [300, 400, [5000, 6000], 500], 30, 40, 7000]"
      ]
     },
     "execution_count": 49,
     "metadata": {},
     "output_type": "execute_result"
    }
   ],
   "source": [
    "list1"
   ]
  },
  {
   "cell_type": "code",
   "execution_count": null,
   "id": "f440ad86-093a-41f5-87f2-312d126915b3",
   "metadata": {},
   "outputs": [],
   "source": []
  }
 ],
 "metadata": {
  "kernelspec": {
   "display_name": "Python 3 (ipykernel)",
   "language": "python",
   "name": "python3"
  },
  "language_info": {
   "codemirror_mode": {
    "name": "ipython",
    "version": 3
   },
   "file_extension": ".py",
   "mimetype": "text/x-python",
   "name": "python",
   "nbconvert_exporter": "python",
   "pygments_lexer": "ipython3",
   "version": "3.11.7"
  }
 },
 "nbformat": 4,
 "nbformat_minor": 5
}
